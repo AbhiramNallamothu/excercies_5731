{
  "cells": [
    {
      "cell_type": "markdown",
      "metadata": {
        "id": "view-in-github"
      },
      "source": [
        "<a href=\"https://colab.research.google.com/github/unt-iialab/INFO5731_Spring2020/blob/master/In_class_exercise/In_class_exercise_01.ipynb\" target=\"_parent\"><img src=\"https://colab.research.google.com/assets/colab-badge.svg\" alt=\"Open In Colab\"/></a>"
      ]
    },
    {
      "cell_type": "markdown",
      "metadata": {
        "id": "DymRJbxDBCnf"
      },
      "source": [
        "# **This first In-class-exercise cover a variety of fundamental concepts in Python and are designed to help individuals improve their coding skills and problem-solving abilities.**\n",
        "\n",
        "The submission is due on 01/31/2024 11:59 PM. This submission is worth 40 points in total.\n"
      ]
    },
    {
      "cell_type": "markdown",
      "source": [
        "(1) Write a Python program that  prompts the user to input the length and width of a rectangle, and then calculates and displays the area of the rectangle."
      ],
      "metadata": {
        "id": "FBKvD6O_TY6e"
      }
    },
    {
      "cell_type": "code",
      "source": [
        "# Define\n",
        "length = float(input(\"Enter the length of the rectangle: \"))\n",
        "width = float(input(\"Enter the width of the rectangle: \"))\n",
        "\n",
        "#  Area of the rectangle\n",
        "area = length * width\n",
        "\n",
        "# Display the result\n",
        "print(f\"The area of the rectangle with length {length} and width {width} is: {area}\")"
      ],
      "metadata": {
        "colab": {
          "base_uri": "https://localhost:8080/"
        },
        "id": "XXrZ2gSmbe9-",
        "outputId": "7c8342ae-fb65-4db2-900c-4336fe2dedb2"
      },
      "execution_count": null,
      "outputs": [
        {
          "output_type": "stream",
          "name": "stdout",
          "text": [
            "Enter the length of the rectangle: 2\n",
            "Enter the width of the rectangle: 3\n",
            "The area of the rectangle with length 2.0 and width 3.0 is: 6.0\n"
          ]
        }
      ]
    },
    {
      "cell_type": "code",
      "source": [],
      "metadata": {
        "id": "J6gc_q1dbe6F"
      },
      "execution_count": null,
      "outputs": []
    },
    {
      "cell_type": "markdown",
      "source": [
        "(2) Create a Python program that interactively takes two numerical inputs from the user and swaps their values without utilizing an extra variable."
      ],
      "metadata": {
        "id": "E9RqrlwdTfvl"
      }
    },
    {
      "cell_type": "code",
      "source": [
        "\n"
      ],
      "metadata": {
        "id": "cikVKDXdTbzE"
      },
      "execution_count": null,
      "outputs": []
    },
    {
      "cell_type": "code",
      "source": [
        "# write your answer here\n",
        "\n",
        "#Input varaibles\n",
        "a=int(input())\n",
        "b=int(input())\n",
        "#swapping the values a & b\n",
        "a, b = b, a\n",
        "#Print the swapped values\n",
        "print(a)\n",
        "print(b)"
      ],
      "metadata": {
        "id": "4XvRknixTh1g",
        "colab": {
          "base_uri": "https://localhost:8080/"
        },
        "outputId": "d4152b04-147c-45b0-c513-e5a530ce52f2"
      },
      "execution_count": 6,
      "outputs": [
        {
          "output_type": "stream",
          "name": "stdout",
          "text": [
            "44\n",
            "66\n",
            "66\n",
            "44\n"
          ]
        }
      ]
    },
    {
      "cell_type": "markdown",
      "metadata": {
        "id": "03jb4GZsBkBS"
      },
      "source": [
        "(3) Write a Python script to determine and print the length of a user-input string."
      ]
    },
    {
      "cell_type": "code",
      "execution_count": 8,
      "metadata": {
        "id": "YaGLbSHHB8Ej",
        "colab": {
          "base_uri": "https://localhost:8080/"
        },
        "outputId": "af607786-e1b9-4b59-cd88-29f25831f449"
      },
      "outputs": [
        {
          "output_type": "stream",
          "name": "stdout",
          "text": [
            "determine\n",
            "9\n"
          ]
        }
      ],
      "source": [
        "# write your answer here\n",
        "# Input Varaible\n",
        "n=input()\n",
        "# Calculate and print length of the string\n",
        "print(len(n))\n"
      ]
    },
    {
      "cell_type": "markdown",
      "metadata": {
        "id": "jJDe71iLB616"
      },
      "source": [
        "(4) Construct a Python program that counts and displays the occurrences of each character in a given string.\n",
        "\n",
        "Sample String: 'openai.ai',\n",
        "\n",
        "Expected Result: {'a': 2, 'i': 2, '.': 1, 'o': 1, 'p': 1, 'e': 1, 'n': 1}"
      ]
    },
    {
      "cell_type": "code",
      "execution_count": 19,
      "metadata": {
        "id": "MtKskTzbCLaU",
        "colab": {
          "base_uri": "https://localhost:8080/"
        },
        "outputId": "a5d23ee4-e4c6-44b9-9e97-4721bd1ad194"
      },
      "outputs": [
        {
          "output_type": "stream",
          "name": "stdout",
          "text": [
            "openai.ai\n",
            "{'a': 2, 'i': 2, 'o': 1, 'p': 1, 'e': 1, 'n': 1, '.': 1}\n"
          ]
        }
      ],
      "source": [
        "from pickle import TRUE\n",
        "# write your answer here\n",
        "dicti={}\n",
        "n=input()\n",
        "for i in n:\n",
        "  dicti[i]=n.count(i) #storing character and its count\n",
        "dicti= dict(sorted(dicti.items(),key = lambda i:i[1],reverse=True))\n",
        "print(dicti)\n"
      ]
    },
    {
      "cell_type": "markdown",
      "metadata": {
        "id": "55W9AMdXCSpV"
      },
      "source": [
        "(5) Design a Python code to calculate the sum of all elements in a user-provided list."
      ]
    },
    {
      "cell_type": "code",
      "execution_count": 21,
      "metadata": {
        "id": "I57NXsauCec2",
        "colab": {
          "base_uri": "https://localhost:8080/"
        },
        "outputId": "dadbbc96-fdd4-4017-a6ba-2fca980a3a6e"
      },
      "outputs": [
        {
          "output_type": "stream",
          "name": "stdout",
          "text": [
            "5\n",
            "5\n",
            "4\n",
            "3\n",
            "2\n",
            "1\n",
            "15\n"
          ]
        }
      ],
      "source": [
        "3\n",
        "4# write your answer here\n",
        "#Initialize an empty list and name it\n",
        "lis=[]\n",
        "# Get number of elements 'n'\n",
        "n=int(input())\n",
        "#Loop 'n' times\n",
        "for i in range(n):\n",
        "  lis.append(int(input()))\n",
        "# Calculate and print final sum\n",
        "print(sum(lis))\n",
        "\n"
      ]
    },
    {
      "cell_type": "markdown",
      "metadata": {
        "id": "4ulBZ6yhCi9F"
      },
      "source": [
        "(6) Write a Python program that modifies a given string by replacing all occurrences of its first character with '$', excluding the first character itself.\n",
        "\n",
        "\n",
        "Sample String : 'restart‘,\n",
        "\n",
        "Expected Result : 'resta\\$t'"
      ]
    },
    {
      "cell_type": "code",
      "execution_count": 15,
      "metadata": {
        "id": "Fj0XhwbBCw2o",
        "colab": {
          "base_uri": "https://localhost:8080/"
        },
        "outputId": "9b7d4d34-f96a-4437-dc08-19e554d46e31"
      },
      "outputs": [
        {
          "output_type": "stream",
          "name": "stdout",
          "text": [
            "restart\n",
            "resta$t\n"
          ]
        }
      ],
      "source": [
        "# write your answer here\n",
        "# Get input string from user\n",
        "n=input()\n",
        "# Intitalise dup string\n",
        "dup=''\n",
        "# Loop through each character\n",
        "for i in n:\n",
        "# insert condition\n",
        "  if i == n[0] and dup!='':\n",
        "    dup+='$'\n",
        "  else:\n",
        "    dup+=i\n",
        "# print modified string\n",
        "print(dup)"
      ]
    },
    {
      "cell_type": "markdown",
      "source": [
        "(7) Write a Python program using a while loop to compute the factorial of a user-supplied number."
      ],
      "metadata": {
        "id": "qVXA3q7ET5JI"
      }
    },
    {
      "cell_type": "code",
      "source": [
        "# write your answer here\n",
        "# Integer input from user\n",
        "n=int(input())\n",
        "\n",
        "fact=1\n",
        "if(n==0):\n",
        "  fact=1\n",
        "else:\n",
        "# While loop to calculate factorial\n",
        "   while(n!=0):\n",
        "    # Multiply 'fact' by the current value of 'n'\n",
        "\n",
        "     fact*=n\n",
        "     # Decrement 'n' by 1 in each iteration\n",
        "     n-=1\n",
        "\n",
        "\n",
        "\n",
        "# Print the final factorial value\n",
        "print(fact)\n"
      ],
      "metadata": {
        "id": "Lbt7R6UkT7BA",
        "colab": {
          "base_uri": "https://localhost:8080/"
        },
        "outputId": "68d13068-301a-432c-c85d-efadaf12a1fb"
      },
      "execution_count": 22,
      "outputs": [
        {
          "output_type": "stream",
          "name": "stdout",
          "text": [
            "7\n",
            "5040\n"
          ]
        }
      ]
    },
    {
      "cell_type": "markdown",
      "source": [
        "(8) Create a program that accepts a list of numbers as input and outputs a new list containing only the even numbers."
      ],
      "metadata": {
        "id": "6YfbzXMNT--R"
      }
    },
    {
      "cell_type": "code",
      "source": [
        "# write your answer here\n",
        "# initializes an empty list\n",
        "lis=[]\n",
        "# Get the number of elements 'n' from the user\n",
        "n=int(input())\n",
        "# Loop 'n' times to get 'n' integer inputs from the user and append them to the list 'lis'\n",
        "for i in range(n):\n",
        "  lis.append(int(input()))\n",
        "# Initialize an empty list named 'even' to store even numbers\n",
        "even=[]\n",
        "# Loop through each element in the list 'lis'\n",
        "for i in lis:\n",
        " # Check if the current element is an even number and not equal to 0\n",
        "  if i%2==0 and i!=0:\n",
        "# Append the even number to the 'even' list\n",
        "    even.append(i)\n",
        "# Print the list of even numbers\n",
        "print(even)"
      ],
      "metadata": {
        "id": "54q7wMQPUAKu",
        "colab": {
          "base_uri": "https://localhost:8080/"
        },
        "outputId": "25b3f6a1-31e2-472c-8371-8fea6f53b2e8"
      },
      "execution_count": 24,
      "outputs": [
        {
          "output_type": "stream",
          "name": "stdout",
          "text": [
            "5\n",
            "9\n",
            "8\n",
            "7\n",
            "6\n",
            "2\n",
            "[8, 6, 2]\n"
          ]
        }
      ]
    },
    {
      "cell_type": "markdown",
      "metadata": {
        "id": "_bIP7s1MCzue"
      },
      "source": [
        "\n",
        "(9) Design a Python function to check if a number is prime.\n"
      ]
    },
    {
      "cell_type": "code",
      "execution_count": 26,
      "metadata": {
        "id": "w79QilHXD3Mg",
        "colab": {
          "base_uri": "https://localhost:8080/"
        },
        "outputId": "3aa5a7e4-e890-46e4-8959-99d1cb589ab0"
      },
      "outputs": [
        {
          "output_type": "stream",
          "name": "stdout",
          "text": [
            "11\n",
            "True\n"
          ]
        }
      ],
      "source": [
        "# write your answer here\n",
        "# Import the math module\n",
        "import math\n",
        "# Get an integer input 'n' from the user\n",
        "n=int(input())\n",
        "# Define a function 'isprime' to check if a given number is prime\n",
        "def isprime(n):\n",
        "# Check if 'n' is less than 2, as numbers less than 2 are not prime\n",
        "  if n < 2:\n",
        "    return False\n",
        "# Initialize a variable 'i' to 2\n",
        "  i = 2\n",
        "# Use a while loop to check divisibility up to the square root of 'n'\n",
        "  while i*i <= n:\n",
        "# Check if 'n' is divisible by 'i'\n",
        "    if n % i == 0:\n",
        "# If divisible, 'n' is not prime\n",
        "      return False\n",
        "# Increment 'i' for the next iteration\n",
        "    i += 1\n",
        "# If no divisors are found, 'n' is prime\n",
        "  return True\n",
        "# print the result\n",
        "print(isprime(n))\n"
      ]
    },
    {
      "cell_type": "markdown",
      "metadata": {
        "id": "xCa2bK9aD4Q3"
      },
      "source": [
        "(10) Write a Python program to concatenate following dictionaries to create a new one.\n",
        "\n",
        "Sample Dictionary : dic1={1:10, 2:20}, dic2={3:30, 4:40}, dic3={5:50,6:60},\n",
        "\n",
        "Expected Result : {1: 10, 2: 20, 3: 30, 4: 40, 5: 50, 6: 60}\n"
      ]
    },
    {
      "cell_type": "code",
      "execution_count": 28,
      "metadata": {
        "id": "_z4aLqAbEET1",
        "colab": {
          "base_uri": "https://localhost:8080/"
        },
        "outputId": "18716a04-356a-4408-89dd-11b9c1dd89cc"
      },
      "outputs": [
        {
          "output_type": "stream",
          "name": "stdout",
          "text": [
            "2\n",
            "2\n",
            "2\n",
            "1\n",
            "10\n",
            "2\n",
            "20\n",
            "3\n",
            "30\n",
            "4\n",
            "40\n",
            "5\n",
            "50\n",
            "6\n",
            "60\n",
            "{1: 10, 2: 20, 3: 30, 4: 40, 5: 50, 6: 60}\n"
          ]
        }
      ],
      "source": [
        "# write your answer here\n",
        "# three integers 'n1', 'n2', and 'n3' as input from the user.\n",
        "n1=int(input())\n",
        "n2=int(input())\n",
        "n3=int(input())\n",
        "# Initializes three empty dictionaries 'dict1', 'dict2', and 'dict3'.\n",
        "dict1={}\n",
        "dict2={}\n",
        "dict3={}\n",
        "# loops to populate each dictionary with key-value pairs based on user input\n",
        "for i in range(n1):\n",
        "  key=int(input())\n",
        "  val=int(input())\n",
        "  dict1[key]=val\n",
        "for i in range(n2):\n",
        "  key=int(input())\n",
        "  val=int(input())\n",
        "  dict2[key]=val\n",
        "for i in range(n3):\n",
        "  key=int(input())\n",
        "  val=int(input())\n",
        "  dict3[key]=val\n",
        "# dictionaries 'dict1', 'dict2', and 'dict3' are merged using the union operator '|', and the result is stored in 'dict3'.\n",
        "dict3=dict1 | dict2 | dict3\n",
        "# merged dictionary 'dict3' is printed.\n",
        "print(dict3)"
      ]
    },
    {
      "cell_type": "markdown",
      "source": [
        "(11) Design a Python function that takes a tuple of integers as input and returns the largest and smallest elements."
      ],
      "metadata": {
        "id": "bkyZ2xSZUOst"
      }
    },
    {
      "cell_type": "code",
      "source": [
        "# write your answer here\n",
        "# input as a space-separated string, split it, and convert it to a tuple\n",
        "tup=tuple(input().split())\n",
        "# Print the maximum value in the tuple using the max() function\n",
        "print(max(tup))\n",
        "# Print the minimum value in the tuple using the min() function\n",
        "print(min(tup))\n"
      ],
      "metadata": {
        "id": "3FdLRBKOUQEd",
        "colab": {
          "base_uri": "https://localhost:8080/"
        },
        "outputId": "fa2a8ae1-1173-49f5-9e3c-8bbafcecf010"
      },
      "execution_count": 30,
      "outputs": [
        {
          "output_type": "stream",
          "name": "stdout",
          "text": [
            "21 11 13 2 1 23\n",
            "23\n",
            "1\n"
          ]
        }
      ]
    },
    {
      "cell_type": "markdown",
      "source": [
        "(12) Write a Python program that counts the frequency of each character in a given string and stores it in a dictionary.\n"
      ],
      "metadata": {
        "id": "O0TVi3gKUTpp"
      }
    },
    {
      "cell_type": "code",
      "source": [
        "# write your answer here\n",
        "#input string from the user\n",
        "n=input()\n",
        "# Initialize an empty dictionary named 'dict'\n",
        "dict={}\n",
        "# Loop through each character in the input string\n",
        "for i in n:\n",
        "# count the occurrences of the current character in the input string\n",
        "  dict[i]=n.count(i)\n",
        "# Print the dictionary containing the count of each character\n",
        "print(dict)\n"
      ],
      "metadata": {
        "id": "lAtfSfZXUU-h",
        "colab": {
          "base_uri": "https://localhost:8080/"
        },
        "outputId": "80893d1e-a9d7-4043-b859-456779766d51"
      },
      "execution_count": 31,
      "outputs": [
        {
          "output_type": "stream",
          "name": "stdout",
          "text": [
            "dictionary\n",
            "{'d': 1, 'i': 2, 'c': 1, 't': 1, 'o': 1, 'n': 1, 'a': 1, 'r': 1, 'y': 1}\n"
          ]
        }
      ]
    },
    {
      "cell_type": "markdown",
      "metadata": {
        "id": "0v48Vqa7FrQh"
      },
      "source": [
        "(13) Implement a Python script to identify duplicate elements in a provided array of integers. Return -1 if there are no duplicates."
      ]
    },
    {
      "cell_type": "code",
      "execution_count": 33,
      "metadata": {
        "id": "7WEmgq-DF2P1",
        "colab": {
          "base_uri": "https://localhost:8080/"
        },
        "outputId": "cbd11dd0-6cd8-4a6a-db91-27125a09e6a1"
      },
      "outputs": [
        {
          "output_type": "stream",
          "name": "stdout",
          "text": [
            "4\n",
            "1\n",
            "2\n",
            "3\n",
            "4\n",
            "-1\n"
          ]
        }
      ],
      "source": [
        "# write your answer here\n",
        "# Define a function named 'find_dup'\n",
        "def find_dup(lis):\n",
        "# Create an empty set named 'set1'\n",
        "  set1=set()\n",
        "# Loop through each element in the list 'lis' and add it to the set 'set1'\n",
        "  for i in lis:\n",
        "    set1.add(i)\n",
        "# Compare the length of the list with the length of the set\n",
        "\n",
        "  if(len(lis)!=len(set1)):\n",
        "# If they are not equal, it means there are duplicates, and the function returns 1\n",
        "    return 1\n",
        "  else:\n",
        "# If the lengths are equal, there are no duplicates, and the function returns -1\n",
        "    return -1\n",
        "# Initialize an empty list named 'lis'\n",
        "lis=[]\n",
        "# Get the number of elements 'n' from the user\n",
        "n=int(input())\n",
        "# Loop 'n' times to get 'n' integer inputs from the user and append them to the list 'lis'\n",
        "for i in range(n):\n",
        "  lis.append(int(input()))\n",
        "# Call the 'find_dup' function with the list 'lis' and print the result\n",
        "print(find_dup(lis))\n"
      ]
    },
    {
      "cell_type": "markdown",
      "metadata": {
        "id": "vD5PYLMuGga_"
      },
      "source": [
        "(14) Write a Python script to find the common elements between two lists."
      ]
    },
    {
      "cell_type": "code",
      "execution_count": 35,
      "metadata": {
        "id": "t0D5kdJUGjjw",
        "colab": {
          "base_uri": "https://localhost:8080/"
        },
        "outputId": "2068ef65-590d-49a6-9958-da9ab293e55b"
      },
      "outputs": [
        {
          "output_type": "stream",
          "name": "stdout",
          "text": [
            "5\n",
            "1\n",
            "2\n",
            "3\n",
            "4\n",
            "5\n",
            "3\n",
            "4\n",
            "5\n",
            "6\n",
            "7\n",
            "{3, 4, 5}\n"
          ]
        }
      ],
      "source": [
        "# write your answer here\n",
        "# Initialize two empty lists\n",
        "list1=[]\n",
        "list2=[]\n",
        "# Get the number of elements 'n' from the user\n",
        "n=int(input())\n",
        "# Loop 'n' times to get 'n' integer inputs from the user and append them\n",
        "for i in range(n):\n",
        "  list1.append(int(input()))\n",
        "for i in range(n):\n",
        "  list2.append(int(input()))\n",
        "# Initialize an empty set\n",
        "set1=set()\n",
        "# Loop through each element in 'list 1'\n",
        "for i in list1:\n",
        "# Check if the element is also present in 'list2'\n",
        "  if i in list2:\n",
        "# If present, add the element to the set 'set1'\n",
        "    set1.add(i)\n",
        "# Print the set containing the common elements between 'list1' and 'list2'\n",
        "print(set1)"
      ]
    },
    {
      "cell_type": "markdown",
      "metadata": {
        "id": "uHkd-y5VhVWC"
      },
      "source": [
        "(15) Write a Python program to randomly divide the students in this class into six groups for term projects, each group should have at least 4 students but no more than 6 students (including 6).\n",
        "\n",
        "Here is the students list:\n",
        "\n"
      ]
    },
    {
      "cell_type": "code",
      "execution_count": 65,
      "metadata": {
        "id": "3iGbmcOBhTwy",
        "colab": {
          "base_uri": "https://localhost:8080/"
        },
        "outputId": "8b657e4f-ecc2-4525-c497-ba19bc944a89"
      },
      "outputs": [
        {
          "output_type": "stream",
          "name": "stdout",
          "text": [
            "39\n",
            "Group 1: ['mk1317', 'sk2936', 'vg0433', 'gp0252']\n",
            "Group 2: ['ms2060', 'srk0204', 'ap1484', 'vg0598']\n",
            "Group 3: ['an0892', 'mk1302', 'tk0411', 'sn0913', 'md0825', 'tk0412']\n",
            "Group 4: ['pk0553', 'sm2985', 'sv1394', 'ac1964', 'mh1068']\n",
            "Group 5: ['vk0656', 'sy0594', 'hs0665', 'nt0385', 'gt0217', 'mm2372']\n",
            "Group 6: ['md0912', 'mr1765', 'un0045', 'hc0612', 'rb0846', 'sk2922']\n"
          ]
        }
      ],
      "source": [
        "# write your answer here\n",
        "def divide_students_into_groups(students):\n",
        "    # Shuffle the list of students randomly\n",
        "    random.shuffle(students)\n",
        "\n",
        "    # Define the size limits for each group\n",
        "    min_group_size = 4\n",
        "    max_group_size = 6\n",
        "\n",
        "    # Initialize groups\n",
        "    groups = []\n",
        "\n",
        "    # Divide students into groups\n",
        "    while students:\n",
        "        group_size = random.randint(min_group_size, max_group_size)\n",
        "        current_group = students[:group_size]\n",
        "        groups.append(current_group)\n",
        "        students = students[group_size:]\n",
        "        if(len(groups)==6):\n",
        "          break\n",
        "    return groups\n",
        "\n",
        "student_list_spring_2024=[\"rb0846\",\n",
        "\"ac1964\",\n",
        "\"hc0612\",\n",
        "\"md0912\",\n",
        "\"ad1198\",\n",
        "\"md0894\",\n",
        "\"md0825\",\n",
        "\"vg0598\",\n",
        "\"vg0433\",\n",
        "\"mh1068\",\n",
        "\"yj0173\",\n",
        "\"pk0553\",\n",
        "\"tk0411\",\n",
        "\"srk0204\",\n",
        "\"sk2922\",\n",
        "\"sk2936\",\n",
        "\"mk1302\",\n",
        "\"mk1317\",\n",
        "\"tk0412\",\n",
        "\"vk0656\",\n",
        "\"sm2985\",\n",
        "\"mm2372\",\n",
        "\"un0045\",\n",
        "\"an0892\",\n",
        "\"sn0913\",\n",
        "\"gp0252\",\n",
        "\"ap1484\",\n",
        "\"mr1765\",\n",
        "\"sr1385\",\n",
        "\"sr1335\",\n",
        "\"hs0665\",\n",
        "\"ms2060\",\n",
        "\"gt0217\",\n",
        "\"nt0385\",\n",
        "\"tv0186\",\n",
        "\"sv1394\",\n",
        "\"sv1752\",\n",
        "\"sv1555\",\n",
        "\"sy0594\"\n",
        "]\n",
        "print(len(student_list_spring_2024))\n",
        "\n",
        "resulting_groups = divide_students_into_groups(student_list_spring_2024)\n",
        "for i, group in enumerate(resulting_groups, 1):\n",
        "    print(f\"Group {i}: {group}\")\n"
      ]
    },
    {
      "cell_type": "markdown",
      "metadata": {
        "id": "fmZ9vX20Qs3d"
      },
      "source": [
        "(16) Create a program that takes a positive integer 'n' as input and prints the count of even numbers from 1 to 'n'. Optimize the loop using the break statement."
      ]
    },
    {
      "cell_type": "code",
      "execution_count": 37,
      "metadata": {
        "id": "W8Jw6sWMQs3d",
        "colab": {
          "base_uri": "https://localhost:8080/"
        },
        "outputId": "d6c62ff4-5eeb-463d-a98e-35c88f25f5d3"
      },
      "outputs": [
        {
          "output_type": "stream",
          "name": "stdout",
          "text": [
            "7\n",
            "3\n"
          ]
        }
      ],
      "source": [
        "# write your answer here\n",
        "# integer input 'n' from the user.\n",
        "n=int(input())\n",
        "# Initialize a variable 'count' to 0\n",
        "count=0\n",
        "# while loop to iterate until 'n' becomes 0\n",
        "while(True):\n",
        "# Check if current value of 'n' is even\n",
        "  if(n%2==0):\n",
        "# Increment 'count' if the current value of 'n' is even\n",
        "    count+=1\n",
        "# Decrement 'n' by 1 in each iteration\n",
        "  n-=1\n",
        "# Check if 'n' has reached 0, and if so, break out of the loop\n",
        "  if(n==0):\n",
        "    break\n",
        "# Print the final count of even numbers\n",
        "print(count)"
      ]
    },
    {
      "cell_type": "markdown",
      "metadata": {
        "id": "hvq4APMhQs3d"
      },
      "source": [
        "(17) Develop a Python function called 'count_vowels' that takes a string as input and returns the count of vowels (both lowercase and uppercase) present in the string, ignoring spaces and non-alphabetic characters."
      ]
    },
    {
      "cell_type": "code",
      "execution_count": 40,
      "metadata": {
        "id": "ZnoxhSglQs3d",
        "colab": {
          "base_uri": "https://localhost:8080/"
        },
        "outputId": "f230871e-35d2-4966-e078-3f4ac2280f7d"
      },
      "outputs": [
        {
          "output_type": "stream",
          "name": "stdout",
          "text": [
            "abhiram nallamothu\n",
            "7\n"
          ]
        }
      ],
      "source": [
        "# write your answer here\n",
        "# Define a function named 'count_vowels'\n",
        "def count_vowels(n):\n",
        "# Initialize a variable 'count' to 0\n",
        "  count=0\n",
        "# Loop through each character in the input string 'n'\n",
        "  for i in n:\n",
        "# Convert the character to lowercase to handle both uppercase and lowercase vowels\n",
        "    x=i.lower()\n",
        " # Check if the current character is a vowel ('a', 'e', 'i', 'o', or 'u')\n",
        "    if (x == 'a' or x == 'e' or\n",
        "        x == 'i' or x == 'o' or x == 'u'):\n",
        "# Increment 'count' if the current character is a vowel\n",
        "\n",
        "      count+=1\n",
        "  return count\n",
        "# Input from the user\n",
        "n=input()\n",
        "print(count_vowels(n))"
      ]
    },
    {
      "cell_type": "markdown",
      "source": [
        "(18) Create a custom exception named ValueTooSmallError in Python. Write a program that takes user input for an age, and if the entered age is less than 18, raise the ValueTooSmallError with an appropriate error message."
      ],
      "metadata": {
        "id": "55FWoSJPVVM6"
      }
    },
    {
      "cell_type": "code",
      "source": [
        "# write your answer here\n",
        "# defines a custom exception class named 'ValueTooSmallError'.\n",
        "class ValueTooSmallError(Exception):\n",
        "  \"\"\"value less than 18 \"\"\"\n",
        "  pass\n",
        "# integer input 'n' from the user.\n",
        "n=int(input())\n",
        "# Use a try-except block to handle the custom exception\n",
        "try:\n",
        "# Check if 'n' is less than 18. If true, raise the custom exception 'ValueTooSmallError. else prin the value\n",
        "  if(n<18):\n",
        "    raise ValueTooSmallError\n",
        "  else:\n",
        "    print(n)\n",
        "except ValueTooSmallError:\n",
        "# Catch the custom exception and print a corresponding message\n",
        "  print(\"value is less than 18\")\n"
      ],
      "metadata": {
        "id": "hwtr1wZmVX5A",
        "colab": {
          "base_uri": "https://localhost:8080/"
        },
        "outputId": "dc3ceb65-4929-4c7d-f276-7f9d693e298a"
      },
      "execution_count": 42,
      "outputs": [
        {
          "output_type": "stream",
          "name": "stdout",
          "text": [
            "17\n",
            "value is less than 18\n"
          ]
        }
      ]
    },
    {
      "cell_type": "markdown",
      "source": [
        "(19) Develop a script that reverses a given string without using built-in reverse functions."
      ],
      "metadata": {
        "id": "Q9ecagcaVazW"
      }
    },
    {
      "cell_type": "code",
      "source": [
        "# write your answer here\n",
        "# Define a function\n",
        "def reverse_string(input_string):\n",
        "# Initialize an empty string\n",
        "    reversed_string = \"\"\n",
        "# Use a for loop\n",
        "    for char in input_string[::-1]:\n",
        "# Append each character\n",
        "        reversed_string += char\n",
        "# Return the final reversed string\n",
        "    return reversed_string\n",
        "\n",
        "# Example usage\n",
        "input_str = input()\n",
        "# Call the 'reverse_string'\n",
        "result = reverse_string(input_str)\n",
        "\n",
        "# Print the reversed string\n",
        "print(result)\n",
        "\n",
        "\n",
        "\n",
        "\n"
      ],
      "metadata": {
        "id": "gycgckoAVZjR",
        "outputId": "b7fa02db-01df-4503-d5cc-97f480bbc2fb",
        "colab": {
          "base_uri": "https://localhost:8080/"
        }
      },
      "execution_count": 3,
      "outputs": [
        {
          "output_type": "stream",
          "name": "stdout",
          "text": [
            "function\n",
            "noitcnuf\n"
          ]
        }
      ]
    },
    {
      "cell_type": "markdown",
      "source": [],
      "metadata": {
        "id": "eqS1O_9VX7_c"
      }
    },
    {
      "cell_type": "markdown",
      "source": [],
      "metadata": {
        "id": "nQBiiN9nX7p8"
      }
    },
    {
      "cell_type": "markdown",
      "source": [
        "(20) Implement a Python script to generate a random password of a specified length."
      ],
      "metadata": {
        "id": "ZFG6RibifMLu"
      }
    },
    {
      "cell_type": "code",
      "source": [
        "# write your answer here\n",
        "# Import the 'string' and 'random' modules\n",
        "import string\n",
        "import random\n",
        "# Define a function named 'generatepassword'\n",
        "def generatepassword(length):\n",
        "# Define the characters\n",
        "  accepted = string.ascii_letters + string.digits + string.punctuation\n",
        "# Use a list comprehension and the 'random.choice'\n",
        "  password = ''.join(random.choice(accepted) for i in range(length))\n",
        "# Return the generated password\n",
        "  return password\n",
        "\n",
        "n=int(input())\n",
        "print(generatepassword(n))\n"
      ],
      "metadata": {
        "id": "BFVrkEi9fNiD",
        "colab": {
          "base_uri": "https://localhost:8080/"
        },
        "outputId": "00bd895b-8df0-410e-c81b-2ecf4edc2825"
      },
      "execution_count": 43,
      "outputs": [
        {
          "output_type": "stream",
          "name": "stdout",
          "text": [
            "5\n",
            "&zdwZ\n"
          ]
        }
      ]
    },
    {
      "cell_type": "markdown",
      "source": [
        "# Try these questions:"
      ],
      "metadata": {
        "id": "6SmvS7nSfbj8"
      }
    },
    {
      "cell_type": "markdown",
      "source": [
        "(21) Define a base class called 'Vehicle' with attributes make and model. Create a derived class Car that inherits from Vehicle and has an additional attribute 'num_doors'. Demonstrate an example of creating an instance of the 'Car' class and accessing its attributes."
      ],
      "metadata": {
        "id": "cboAr5pEWUf5"
      }
    },
    {
      "cell_type": "code",
      "source": [
        "class Vehicle:\n",
        "    def __init__(self, make, model):\n",
        "        self.make = make\n",
        "        self.model = model\n",
        "\n",
        "class Car(Vehicle):\n",
        "    def __init__(self, make, model, num_doors):\n",
        "        super().__init__(make, model)\n",
        "        self.num_doors = num_doors\n",
        "\n",
        "\n",
        "# Creating an instance of the Car class\n",
        "make=input()\n",
        "model=input()\n",
        "num_doors=int(input())\n",
        "my_car = Car(make, model, num_doors)\n",
        "\n",
        "# Accessing attributes\n",
        "print(f\"Make: {my_car.make}\")\n",
        "print(f\"Model: {my_car.model}\")\n",
        "print(f\"Number of doors: {my_car.num_doors}\")\n",
        "\n"
      ],
      "metadata": {
        "id": "phs9gciMWWAW",
        "colab": {
          "base_uri": "https://localhost:8080/"
        },
        "outputId": "5b968532-6aa5-4499-ce0e-370554606aa9"
      },
      "execution_count": 54,
      "outputs": [
        {
          "output_type": "stream",
          "name": "stdout",
          "text": [
            "toyota\n",
            "cammy\n",
            "4\n",
            "Make: toyota\n",
            "Model: cammy\n",
            "Number of doors: 4\n"
          ]
        }
      ]
    },
    {
      "cell_type": "markdown",
      "source": [
        "(22) Create a class called 'Shape' with a method calculate_area(). Implement two derived classes 'Circle' and 'Rectangle' that inherit from Shape and override the calculate_area() method. Demonstrate polymorphism by creating instances of both derived classes and calling the calculate_area() method."
      ],
      "metadata": {
        "id": "J8HHefNtePwd"
      }
    },
    {
      "cell_type": "code",
      "source": [
        "# write your answer here\n",
        "import math\n",
        "class Shape:\n",
        "    def calculate_area(self):\n",
        "        pass\n",
        "\n",
        "class Circle(Shape):\n",
        "    def __init__(self, radius):\n",
        "        self.radius = radius\n",
        "\n",
        "    def calculate_area(self):\n",
        "        return math.pi * self.radius ** 2\n",
        "\n",
        "class Rectangle(Shape):\n",
        "    def __init__(self, length, width):\n",
        "        self.length = length\n",
        "        self.width = width\n",
        "\n",
        "    def calculate_area(self):\n",
        "        return self.length * self.width\n",
        "\n",
        "# Demonstrate polymorphism\n",
        "# Creating instances of both Circle and Rectangle\n",
        "radius=int(input())\n",
        "length=int(input())\n",
        "width=int(input())\n",
        "circle_instance = Circle(radius)\n",
        "rectangle_instance = Rectangle(length, width)\n",
        "\n",
        "# Calling the calculate_area() method on both instances\n",
        "circle_area = circle_instance.calculate_area()\n",
        "rectangle_area = rectangle_instance.calculate_area()\n",
        "\n",
        "# Displaying the results\n",
        "print(f\"Circle Area: {circle_area:.2f}\")\n",
        "print(f\"Rectangle Area: {rectangle_area}\")\n"
      ],
      "metadata": {
        "id": "btnMmUZDeRhS",
        "colab": {
          "base_uri": "https://localhost:8080/"
        },
        "outputId": "3e30fc2d-416a-4d73-f12a-d37562a0afd3"
      },
      "execution_count": 53,
      "outputs": [
        {
          "output_type": "stream",
          "name": "stdout",
          "text": [
            "2\n",
            "3\n",
            "4\n",
            "Circle Area: 12.57\n",
            "Rectangle Area: 12\n"
          ]
        }
      ]
    },
    {
      "cell_type": "markdown",
      "source": [
        "(23) Write a Python program that prompts the user to enter two numbers and perform a division operation. Handle exceptions for both zero division and invalid input (non-numeric input). Display appropriate error messages for each type of exception and ensure the program does not crash due to these errors."
      ],
      "metadata": {
        "id": "z0oqEAlTeMUS"
      }
    },
    {
      "cell_type": "code",
      "source": [
        "def divide_numbers():\n",
        "    try:\n",
        "        # Prompt the user to enter two numbers\n",
        "        num1 = input()\n",
        "        num2 = input()\n",
        "\n",
        "        # Perform division\n",
        "        result = int(num1) / int(num2)\n",
        "\n",
        "        # Display the result\n",
        "        print(f\"Result of division: {result}\")\n",
        "\n",
        "    except ValueError:\n",
        "        # Handle invalid input (non-numeric)\n",
        "        print(\"Invalid input. Please enter numeric values.\")\n",
        "\n",
        "    except ZeroDivisionError:\n",
        "        # Handle division by zero\n",
        "        print(\"Error: Division by zero is not allowed.\")\n",
        "\n",
        "    except Exception as e:\n",
        "        # Handle other unexpected exceptions\n",
        "        print(f\"An unexpected error occurred: {e}\")\n",
        "\n",
        "# Call the function\n",
        "divide_numbers()\n"
      ],
      "metadata": {
        "id": "yjdc1zM1eMAs",
        "colab": {
          "base_uri": "https://localhost:8080/"
        },
        "outputId": "d62f1139-9995-4dc9-9662-880e3558a942"
      },
      "execution_count": 57,
      "outputs": [
        {
          "output_type": "stream",
          "name": "stdout",
          "text": [
            "w\n",
            "3\n",
            "Invalid input. Please enter numeric values.\n"
          ]
        }
      ]
    },
    {
      "cell_type": "markdown",
      "source": [
        "# Mandatory Question"
      ],
      "metadata": {
        "id": "sZOhks1dXWEe"
      }
    },
    {
      "cell_type": "markdown",
      "source": [
        "**Important:**\n",
        "Reflecting on the first three lectures and the exercises you've completed, please provide feedback on your learning experience. Share your thoughts on whether the material covered was clear, the exercises were helpful, and if you feel more confident in applying Python programming concepts. Additionally, mention any specific areas where you would like more clarification or topics you would like to explore further in future lectures. Your feedback is valuable in shaping the course for an effective learning journey."
      ],
      "metadata": {
        "id": "eqmHVEwaWhbV"
      }
    },
    {
      "cell_type": "markdown",
      "source": [
        "Write your response here."
      ],
      "metadata": {
        "id": "HlpXOT9wXQAd"
      }
    },
    {
      "cell_type": "markdown",
      "source": [
        "I have faced some challanges while understanding the topics files and classes. In files it was little bit confusing on reading the data.Despite the attempts to understand, I still struggle Understanding the Purpose of Classes and their attribute value retreving. A bit more practical knowledge might require on this topic to understand more.out of all the question it has taken a lot of time for me to solve the question related to classes. This exercise helped me to understand the concepts of datatypes and where we can use different types. As a beginner this modules was very helpful for me to understand the basics. It would be helpful for me if the module is covered in depth on classes and files. In excercies if there are any test cases that would have helped me better in understanding the questions."
      ],
      "metadata": {
        "id": "5FOZUwy_VJyD"
      }
    },
    {
      "cell_type": "code",
      "source": [],
      "metadata": {
        "id": "NRRLJMzdPuU5"
      },
      "execution_count": null,
      "outputs": []
    },
    {
      "cell_type": "markdown",
      "source": [
        "I have faced some challanges while understanding the topics files and classes. In files it was little bit confusing on reading the data.Despite the attempts to understand, I still struggle Understanding the Purpose of Classes and their attribute value retreving. out of all the question it has taken a lot of time for me to solve the question related to classes. This exercise helped me to understand the concepts of datatypes and where we can use different types. As a beginner this modules was ver helpful for me to understand the basics of python."
      ],
      "metadata": {
        "id": "HsUx0HaqVFqg"
      }
    },
    {
      "cell_type": "code",
      "source": [],
      "metadata": {
        "id": "Dq2aOZU7XIke"
      },
      "execution_count": null,
      "outputs": []
    }
  ],
  "metadata": {
    "colab": {
      "provenance": []
    },
    "kernelspec": {
      "display_name": "Python 3 (ipykernel)",
      "language": "python",
      "name": "python3"
    },
    "language_info": {
      "codemirror_mode": {
        "name": "ipython",
        "version": 3
      },
      "file_extension": ".py",
      "mimetype": "text/x-python",
      "name": "python",
      "nbconvert_exporter": "python",
      "pygments_lexer": "ipython3",
      "version": "3.9.12"
    }
  },
  "nbformat": 4,
  "nbformat_minor": 0
}